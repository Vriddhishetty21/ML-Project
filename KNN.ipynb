{
 "cells": [
  {
   "cell_type": "code",
   "execution_count": 1,
   "id": "ff487e9d",
   "metadata": {},
   "outputs": [],
   "source": [
    "import pandas as pd\n",
    "from sklearn.neighbors import KNeighborsClassifier\n",
    "import matplotlib.pyplot as plt\n",
    "from sklearn.model_selection import train_test_split\n",
    "from sklearn.metrics import accuracy_score\n",
    "import numpy as np"
   ]
  },
  {
   "cell_type": "code",
   "execution_count": 8,
   "id": "6b18d8ea",
   "metadata": {},
   "outputs": [
    {
     "name": "stdout",
     "output_type": "stream",
     "text": [
      "    gender  age Investment_Avenues  Mutual_Funds  Equity_Market  Debentures  \\\n",
      "0   Female   34                Yes             1              2           5   \n",
      "1   Female   23                Yes             4              3           2   \n",
      "2     Male   30                Yes             3              6           4   \n",
      "3     Male   22                Yes             2              1           3   \n",
      "4   Female   24                 No             2              1           3   \n",
      "5   Female   24                 No             7              5           4   \n",
      "6   Female   27                Yes             3              6           4   \n",
      "7     Male   21                Yes             2              3           7   \n",
      "8     Male   35                Yes             2              4           7   \n",
      "9     Male   31                Yes             1              3           7   \n",
      "10  Female   35                Yes             2              4           7   \n",
      "11    Male   29                Yes             2              5           7   \n",
      "12  Female   21                 No             1              2           3   \n",
      "13  Female   28                Yes             2              3           7   \n",
      "14  Female   25                Yes             2              3           7   \n",
      "15    Male   27                Yes             2              3           7   \n",
      "16  Female   28                Yes             3              2           7   \n",
      "17    Male   27                Yes             3              2           7   \n",
      "18    Male   29                Yes             3              2           7   \n",
      "19    Male   26                Yes             3              4           6   \n",
      "20    Male   29                Yes             2              4           7   \n",
      "21  Female   24                Yes             2              4           5   \n",
      "22    Male   27                Yes             3              4           6   \n",
      "23    Male   25                Yes             2              4           6   \n",
      "24  Female   26                Yes             2              3           7   \n",
      "25  Female   32                Yes             3              4           7   \n",
      "26    Male   26                Yes             3              4           6   \n",
      "27    Male   31                Yes             2              3           7   \n",
      "28    Male   29                Yes             2              3           6   \n",
      "29  Female   34                Yes             5              4           3   \n",
      "30    Male   27                Yes             4              5           1   \n",
      "31  Female   31                Yes             2              4           7   \n",
      "32    Male   27                Yes             2              4           7   \n",
      "33    Male   26                Yes             2              3           6   \n",
      "34    Male   27                Yes             2              3           6   \n",
      "35    Male   30                Yes             1              4           6   \n",
      "36    Male   30                Yes             2              4           7   \n",
      "37    Male   25                Yes             5              4           7   \n",
      "38    Male   31                Yes             2              4           7   \n",
      "39    Male   29                Yes             4              3           5   \n",
      "\n",
      "    Government_Bonds  Fixed_Deposits  PPF  Gold  ...           Duration  \\\n",
      "0                  3               7    6     4  ...          1-3 years   \n",
      "1                  1               5    6     7  ...  More than 5 years   \n",
      "2                  2               5    1     7  ...          3-5 years   \n",
      "3                  7               6    4     5  ...   Less than 1 year   \n",
      "4                  6               4    5     7  ...   Less than 1 year   \n",
      "5                  6               3    1     2  ...          1-3 years   \n",
      "6                  2               5    1     7  ...          3-5 years   \n",
      "7                  4               6    1     5  ...          3-5 years   \n",
      "8                  5               3    1     6  ...          1-3 years   \n",
      "9                  4               5    2     6  ...          3-5 years   \n",
      "10                 5               3    1     6  ...          3-5 years   \n",
      "11                 6               3    1     4  ...          1-3 years   \n",
      "12                 4               5    6     7  ...          1-3 years   \n",
      "13                 4               5    1     6  ...          1-3 years   \n",
      "14                 5               4    1     6  ...          1-3 years   \n",
      "15                 5               4    1     6  ...          1-3 years   \n",
      "16                 5               4    1     6  ...          1-3 years   \n",
      "17                 4               5    1     6  ...          1-3 years   \n",
      "18                 4               5    1     6  ...          1-3 years   \n",
      "19                 5               1    2     7  ...          3-5 years   \n",
      "20                 5               3    1     6  ...          3-5 years   \n",
      "21                 6               3    1     7  ...          3-5 years   \n",
      "22                 5               2    1     7  ...          3-5 years   \n",
      "23                 5               3    1     7  ...          3-5 years   \n",
      "24                 5               4    1     6  ...          3-5 years   \n",
      "25                 5               1    2     6  ...          3-5 years   \n",
      "26                 5               1    2     7  ...          3-5 years   \n",
      "27                 6               4    1     5  ...          1-3 years   \n",
      "28                 5               1    4     7  ...          1-3 years   \n",
      "29                 2               7    1     6  ...          3-5 years   \n",
      "30                 2               7    3     6  ...          1-3 years   \n",
      "31                 6               3    1     5  ...          3-5 years   \n",
      "32                 5               1    3     6  ...          3-5 years   \n",
      "33                 4               1    5     7  ...          1-3 years   \n",
      "34                 5               4    1     7  ...          1-3 years   \n",
      "35                 5               3    2     7  ...          3-5 years   \n",
      "36                 5               1    3     6  ...          1-3 years   \n",
      "37                 6               1    2     3  ...          3-5 years   \n",
      "38                 5               3    1     6  ...          1-3 years   \n",
      "39                 7               2    1     6  ...          3-5 years   \n",
      "\n",
      "   Invest_Monitor   Expect                 Avenue  \\\n",
      "0         Monthly  20%-30%            Mutual Fund   \n",
      "1          Weekly  20%-30%            Mutual Fund   \n",
      "2           Daily  20%-30%                 Equity   \n",
      "3           Daily  10%-20%                 Equity   \n",
      "4           Daily  20%-30%                 Equity   \n",
      "5           Daily  30%-40%            Mutual Fund   \n",
      "6         Monthly  20%-30%                 Equity   \n",
      "7         Monthly  20%-30%            Mutual Fund   \n",
      "8          Weekly  20%-30%                 Equity   \n",
      "9         Monthly  30%-40%         Fixed Deposits   \n",
      "10        Monthly  20%-30%            Mutual Fund   \n",
      "11        Monthly  20%-30%            Mutual Fund   \n",
      "12         Weekly  20%-30%            Mutual Fund   \n",
      "13        Monthly  20%-30%            Mutual Fund   \n",
      "14        Monthly  20%-30%         Fixed Deposits   \n",
      "15        Monthly  20%-30%            Mutual Fund   \n",
      "16        Monthly  20%-30%         Fixed Deposits   \n",
      "17        Monthly  20%-30%            Mutual Fund   \n",
      "18        Monthly  20%-30%            Mutual Fund   \n",
      "19        Monthly  20%-30%         Fixed Deposits   \n",
      "20         Weekly  20%-30%            Mutual Fund   \n",
      "21        Monthly  20%-30%                 Equity   \n",
      "22        Monthly  20%-30%            Mutual Fund   \n",
      "23         Weekly  20%-30%  Public Provident Fund   \n",
      "24        Monthly  30%-40%  Public Provident Fund   \n",
      "25        Monthly  20%-30%            Mutual Fund   \n",
      "26        Monthly  20%-30%            Mutual Fund   \n",
      "27        Monthly  20%-30%         Fixed Deposits   \n",
      "28        Monthly  20%-30%                 Equity   \n",
      "29        Monthly  10%-20%            Mutual Fund   \n",
      "30        Monthly  10%-20%            Mutual Fund   \n",
      "31        Monthly  20%-30%         Fixed Deposits   \n",
      "32        Monthly  30%-40%                 Equity   \n",
      "33        Monthly  20%-30%         Fixed Deposits   \n",
      "34         Weekly  20%-30%            Mutual Fund   \n",
      "35        Monthly  20%-30%         Fixed Deposits   \n",
      "36        Monthly  20%-30%                 Equity   \n",
      "37        Monthly  30%-40%  Public Provident Fund   \n",
      "38         Weekly  20%-30%                 Equity   \n",
      "39        Monthly  20%-30%         Fixed Deposits   \n",
      "\n",
      "   What are your savings objectives?         Reason_Equity  \\\n",
      "0                    Retirement Plan  Capital Appreciation   \n",
      "1                        Health Care              Dividend   \n",
      "2                    Retirement Plan  Capital Appreciation   \n",
      "3                    Retirement Plan              Dividend   \n",
      "4                    Retirement Plan  Capital Appreciation   \n",
      "5                    Retirement Plan             Liquidity   \n",
      "6                    Retirement Plan  Capital Appreciation   \n",
      "7                    Retirement Plan  Capital Appreciation   \n",
      "8                    Retirement Plan  Capital Appreciation   \n",
      "9                    Retirement Plan  Capital Appreciation   \n",
      "10                   Retirement Plan  Capital Appreciation   \n",
      "11                   Retirement Plan  Capital Appreciation   \n",
      "12                         Education              Dividend   \n",
      "13                   Retirement Plan  Capital Appreciation   \n",
      "14                       Health Care              Dividend   \n",
      "15                       Health Care  Capital Appreciation   \n",
      "16                       Health Care  Capital Appreciation   \n",
      "17                   Retirement Plan  Capital Appreciation   \n",
      "18                   Retirement Plan  Capital Appreciation   \n",
      "19                       Health Care  Capital Appreciation   \n",
      "20                   Retirement Plan  Capital Appreciation   \n",
      "21                       Health Care  Capital Appreciation   \n",
      "22                   Retirement Plan  Capital Appreciation   \n",
      "23                       Health Care             Liquidity   \n",
      "24                   Retirement Plan  Capital Appreciation   \n",
      "25                   Retirement Plan  Capital Appreciation   \n",
      "26                   Retirement Plan              Dividend   \n",
      "27                       Health Care  Capital Appreciation   \n",
      "28                   Retirement Plan  Capital Appreciation   \n",
      "29                   Retirement Plan  Capital Appreciation   \n",
      "30                         Education  Capital Appreciation   \n",
      "31                   Retirement Plan  Capital Appreciation   \n",
      "32                       Health Care  Capital Appreciation   \n",
      "33                         Education              Dividend   \n",
      "34                       Health Care  Capital Appreciation   \n",
      "35                       Health Care  Capital Appreciation   \n",
      "36                   Retirement Plan  Capital Appreciation   \n",
      "37                       Health Care  Capital Appreciation   \n",
      "38                       Health Care              Dividend   \n",
      "39                   Retirement Plan              Dividend   \n",
      "\n",
      "           Reason_Mutual     Reason_Bonds            Reason_FD  \\\n",
      "0         Better Returns  Safe Investment        Fixed Returns   \n",
      "1         Better Returns  Safe Investment  High Interest Rates   \n",
      "2           Tax Benefits  Assured Returns        Fixed Returns   \n",
      "3   Fund Diversification   Tax Incentives  High Interest Rates   \n",
      "4         Better Returns  Safe Investment            Risk Free   \n",
      "5   Fund Diversification  Safe Investment            Risk Free   \n",
      "6         Better Returns  Assured Returns  High Interest Rates   \n",
      "7         Better Returns  Assured Returns            Risk Free   \n",
      "8   Fund Diversification  Safe Investment        Fixed Returns   \n",
      "9   Fund Diversification  Assured Returns        Fixed Returns   \n",
      "10        Better Returns  Assured Returns            Risk Free   \n",
      "11  Fund Diversification  Assured Returns        Fixed Returns   \n",
      "12        Better Returns  Safe Investment            Risk Free   \n",
      "13  Fund Diversification  Assured Returns            Risk Free   \n",
      "14        Better Returns  Assured Returns            Risk Free   \n",
      "15  Fund Diversification  Assured Returns            Risk Free   \n",
      "16  Fund Diversification  Assured Returns            Risk Free   \n",
      "17        Better Returns  Assured Returns            Risk Free   \n",
      "18        Better Returns  Assured Returns            Risk Free   \n",
      "19  Fund Diversification  Assured Returns            Risk Free   \n",
      "20        Better Returns  Assured Returns        Fixed Returns   \n",
      "21        Better Returns  Assured Returns            Risk Free   \n",
      "22        Better Returns  Assured Returns            Risk Free   \n",
      "23        Better Returns  Assured Returns            Risk Free   \n",
      "24        Better Returns  Assured Returns            Risk Free   \n",
      "25        Better Returns  Assured Returns        Fixed Returns   \n",
      "26  Fund Diversification  Assured Returns        Fixed Returns   \n",
      "27  Fund Diversification  Safe Investment        Fixed Returns   \n",
      "28        Better Returns  Assured Returns            Risk Free   \n",
      "29          Tax Benefits  Safe Investment        Fixed Returns   \n",
      "30          Tax Benefits  Safe Investment        Fixed Returns   \n",
      "31        Better Returns  Assured Returns        Fixed Returns   \n",
      "32  Fund Diversification  Assured Returns        Fixed Returns   \n",
      "33        Better Returns  Safe Investment            Risk Free   \n",
      "34        Better Returns  Safe Investment        Fixed Returns   \n",
      "35        Better Returns  Assured Returns        Fixed Returns   \n",
      "36        Better Returns  Assured Returns            Risk Free   \n",
      "37        Better Returns  Safe Investment        Fixed Returns   \n",
      "38  Fund Diversification  Assured Returns        Fixed Returns   \n",
      "39        Better Returns  Safe Investment        Fixed Returns   \n",
      "\n",
      "                      Source  \n",
      "0   Newspapers and Magazines  \n",
      "1      Financial Consultants  \n",
      "2                 Television  \n",
      "3                   Internet  \n",
      "4                   Internet  \n",
      "5                   Internet  \n",
      "6      Financial Consultants  \n",
      "7   Newspapers and Magazines  \n",
      "8                 Television  \n",
      "9   Newspapers and Magazines  \n",
      "10     Financial Consultants  \n",
      "11     Financial Consultants  \n",
      "12                  Internet  \n",
      "13  Newspapers and Magazines  \n",
      "14     Financial Consultants  \n",
      "15  Newspapers and Magazines  \n",
      "16                Television  \n",
      "17     Financial Consultants  \n",
      "18  Newspapers and Magazines  \n",
      "19  Newspapers and Magazines  \n",
      "20     Financial Consultants  \n",
      "21  Newspapers and Magazines  \n",
      "22     Financial Consultants  \n",
      "23     Financial Consultants  \n",
      "24  Newspapers and Magazines  \n",
      "25     Financial Consultants  \n",
      "26     Financial Consultants  \n",
      "27                Television  \n",
      "28                Television  \n",
      "29  Newspapers and Magazines  \n",
      "30                Television  \n",
      "31     Financial Consultants  \n",
      "32  Newspapers and Magazines  \n",
      "33  Newspapers and Magazines  \n",
      "34     Financial Consultants  \n",
      "35     Financial Consultants  \n",
      "36  Newspapers and Magazines  \n",
      "37     Financial Consultants  \n",
      "38  Newspapers and Magazines  \n",
      "39     Financial Consultants  \n",
      "\n",
      "[40 rows x 24 columns]\n"
     ]
    }
   ],
   "source": [
    "data = pd.read_csv('C:\\\\Users\\\\Dell\\\\Downloads\\\\archive (1)\\\\Finance_data.csv')\n",
    "print(data)"
   ]
  },
  {
   "cell_type": "code",
   "execution_count": 9,
   "id": "60ae728f",
   "metadata": {},
   "outputs": [],
   "source": [
    "X = data[['Mutual_Funds', 'age']]\n",
    "y = data['Equity_Market']  "
   ]
  },
  {
   "cell_type": "code",
   "execution_count": 10,
   "id": "8b16f1cd",
   "metadata": {},
   "outputs": [],
   "source": [
    "X_train, X_test, y_train, y_test = train_test_split(X, y, test_size=0.2, random_state=0)"
   ]
  },
  {
   "cell_type": "code",
   "execution_count": 11,
   "id": "78b09104",
   "metadata": {},
   "outputs": [],
   "source": [
    "knn_model = KNeighborsClassifier(n_neighbors=5)"
   ]
  },
  {
   "cell_type": "code",
   "execution_count": 12,
   "id": "b4bcc750",
   "metadata": {},
   "outputs": [
    {
     "data": {
      "text/html": [
       "<style>#sk-container-id-1 {color: black;}#sk-container-id-1 pre{padding: 0;}#sk-container-id-1 div.sk-toggleable {background-color: white;}#sk-container-id-1 label.sk-toggleable__label {cursor: pointer;display: block;width: 100%;margin-bottom: 0;padding: 0.3em;box-sizing: border-box;text-align: center;}#sk-container-id-1 label.sk-toggleable__label-arrow:before {content: \"▸\";float: left;margin-right: 0.25em;color: #696969;}#sk-container-id-1 label.sk-toggleable__label-arrow:hover:before {color: black;}#sk-container-id-1 div.sk-estimator:hover label.sk-toggleable__label-arrow:before {color: black;}#sk-container-id-1 div.sk-toggleable__content {max-height: 0;max-width: 0;overflow: hidden;text-align: left;background-color: #f0f8ff;}#sk-container-id-1 div.sk-toggleable__content pre {margin: 0.2em;color: black;border-radius: 0.25em;background-color: #f0f8ff;}#sk-container-id-1 input.sk-toggleable__control:checked~div.sk-toggleable__content {max-height: 200px;max-width: 100%;overflow: auto;}#sk-container-id-1 input.sk-toggleable__control:checked~label.sk-toggleable__label-arrow:before {content: \"▾\";}#sk-container-id-1 div.sk-estimator input.sk-toggleable__control:checked~label.sk-toggleable__label {background-color: #d4ebff;}#sk-container-id-1 div.sk-label input.sk-toggleable__control:checked~label.sk-toggleable__label {background-color: #d4ebff;}#sk-container-id-1 input.sk-hidden--visually {border: 0;clip: rect(1px 1px 1px 1px);clip: rect(1px, 1px, 1px, 1px);height: 1px;margin: -1px;overflow: hidden;padding: 0;position: absolute;width: 1px;}#sk-container-id-1 div.sk-estimator {font-family: monospace;background-color: #f0f8ff;border: 1px dotted black;border-radius: 0.25em;box-sizing: border-box;margin-bottom: 0.5em;}#sk-container-id-1 div.sk-estimator:hover {background-color: #d4ebff;}#sk-container-id-1 div.sk-parallel-item::after {content: \"\";width: 100%;border-bottom: 1px solid gray;flex-grow: 1;}#sk-container-id-1 div.sk-label:hover label.sk-toggleable__label {background-color: #d4ebff;}#sk-container-id-1 div.sk-serial::before {content: \"\";position: absolute;border-left: 1px solid gray;box-sizing: border-box;top: 0;bottom: 0;left: 50%;z-index: 0;}#sk-container-id-1 div.sk-serial {display: flex;flex-direction: column;align-items: center;background-color: white;padding-right: 0.2em;padding-left: 0.2em;position: relative;}#sk-container-id-1 div.sk-item {position: relative;z-index: 1;}#sk-container-id-1 div.sk-parallel {display: flex;align-items: stretch;justify-content: center;background-color: white;position: relative;}#sk-container-id-1 div.sk-item::before, #sk-container-id-1 div.sk-parallel-item::before {content: \"\";position: absolute;border-left: 1px solid gray;box-sizing: border-box;top: 0;bottom: 0;left: 50%;z-index: -1;}#sk-container-id-1 div.sk-parallel-item {display: flex;flex-direction: column;z-index: 1;position: relative;background-color: white;}#sk-container-id-1 div.sk-parallel-item:first-child::after {align-self: flex-end;width: 50%;}#sk-container-id-1 div.sk-parallel-item:last-child::after {align-self: flex-start;width: 50%;}#sk-container-id-1 div.sk-parallel-item:only-child::after {width: 0;}#sk-container-id-1 div.sk-dashed-wrapped {border: 1px dashed gray;margin: 0 0.4em 0.5em 0.4em;box-sizing: border-box;padding-bottom: 0.4em;background-color: white;}#sk-container-id-1 div.sk-label label {font-family: monospace;font-weight: bold;display: inline-block;line-height: 1.2em;}#sk-container-id-1 div.sk-label-container {text-align: center;}#sk-container-id-1 div.sk-container {/* jupyter's `normalize.less` sets `[hidden] { display: none; }` but bootstrap.min.css set `[hidden] { display: none !important; }` so we also need the `!important` here to be able to override the default hidden behavior on the sphinx rendered scikit-learn.org. See: https://github.com/scikit-learn/scikit-learn/issues/21755 */display: inline-block !important;position: relative;}#sk-container-id-1 div.sk-text-repr-fallback {display: none;}</style><div id=\"sk-container-id-1\" class=\"sk-top-container\"><div class=\"sk-text-repr-fallback\"><pre>KNeighborsClassifier()</pre><b>In a Jupyter environment, please rerun this cell to show the HTML representation or trust the notebook. <br />On GitHub, the HTML representation is unable to render, please try loading this page with nbviewer.org.</b></div><div class=\"sk-container\" hidden><div class=\"sk-item\"><div class=\"sk-estimator sk-toggleable\"><input class=\"sk-toggleable__control sk-hidden--visually\" id=\"sk-estimator-id-1\" type=\"checkbox\" checked><label for=\"sk-estimator-id-1\" class=\"sk-toggleable__label sk-toggleable__label-arrow\">KNeighborsClassifier</label><div class=\"sk-toggleable__content\"><pre>KNeighborsClassifier()</pre></div></div></div></div></div>"
      ],
      "text/plain": [
       "KNeighborsClassifier()"
      ]
     },
     "execution_count": 12,
     "metadata": {},
     "output_type": "execute_result"
    }
   ],
   "source": [
    "knn_model.fit(X_train, y_train)"
   ]
  },
  {
   "cell_type": "code",
   "execution_count": 13,
   "id": "9436fc7b",
   "metadata": {},
   "outputs": [],
   "source": [
    "y_pred = knn_model.predict(X_test)\n"
   ]
  },
  {
   "cell_type": "code",
   "execution_count": 14,
   "id": "75610591",
   "metadata": {},
   "outputs": [
    {
     "name": "stdout",
     "output_type": "stream",
     "text": [
      "Model Accuracy: 50.00%\n"
     ]
    }
   ],
   "source": [
    "accuracy = accuracy_score(y_test, y_pred)\n",
    "print(f\"Model Accuracy: {accuracy*100:.2f}%\")"
   ]
  },
  {
   "cell_type": "code",
   "execution_count": 16,
   "id": "5c854045",
   "metadata": {},
   "outputs": [],
   "source": [
    "h = .02  # step size in the mesh\n",
    "x_min, x_max = X['age'].min() - 1, X['age'].max() + 1\n",
    "y_min, y_max = X['Mutual_Funds'].min() - 1, X['Mutual_Funds'].max() + 1\n",
    "xx, yy = np.meshgrid(np.arange(x_min, x_max, h), np.arange(y_min, y_max, h))\n"
   ]
  },
  {
   "cell_type": "code",
   "execution_count": 17,
   "id": "154f0acf",
   "metadata": {},
   "outputs": [
    {
     "name": "stderr",
     "output_type": "stream",
     "text": [
      "C:\\Users\\Dell\\anaconda4\\envs\\Random\\Lib\\site-packages\\sklearn\\base.py:465: UserWarning: X does not have valid feature names, but KNeighborsClassifier was fitted with feature names\n",
      "  warnings.warn(\n"
     ]
    }
   ],
   "source": [
    "Z = knn_model.predict(np.c_[xx.ravel(), yy.ravel()])\n",
    "Z = Z.reshape(xx.shape)"
   ]
  },
  {
   "cell_type": "code",
   "execution_count": 18,
   "id": "d90a6d28",
   "metadata": {},
   "outputs": [
    {
     "data": {
      "image/png": "[encoded data removed]",
      "text/plain": [
       "<Figure size 640x480 with 1 Axes>"
      ]
     },
     "metadata": {},
     "output_type": "display_data"
    }
   ],
   "source": [
    "plt.contourf(xx, yy, Z, alpha=0.4)\n",
    "plt.scatter(X_train['age'], X_train['Mutual_Funds'], c=y_train, marker='o', edgecolor='k', label='Training Data')\n",
    "plt.scatter(X_test['age'], X_test['Mutual_Funds'], c=y_test, marker='s', edgecolor='k', label='Test Data')\n",
    "\n",
    "plt.xlabel('age')\n",
    "plt.ylabel('Mutual_Funds')\n",
    "plt.title('KNN finance data')\n",
    "plt.legend()\n",
    "plt.show()"
   ]
  },
  {
   "cell_type": "code",
   "execution_count": null,
   "id": "9a0a3011",
   "metadata": {},
   "outputs": [],
   "source": []
  }
 ],
 "metadata": {
  "kernelspec": {
   "display_name": "Python 3 (ipykernel)",
   "language": "python",
   "name": "python3"
  },
  "language_info": {
   "codemirror_mode": {
    "name": "ipython",
    "version": 3
   },
   "file_extension": ".py",
   "mimetype": "text/x-python",
   "name": "python",
   "nbconvert_exporter": "python",
   "pygments_lexer": "ipython3",
   "version": "3.11.4"
  }
 },
 "nbformat": 4,
 "nbformat_minor": 5
}
